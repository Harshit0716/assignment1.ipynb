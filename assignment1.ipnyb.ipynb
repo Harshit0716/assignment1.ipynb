{
 "cells": [
  {
   "cell_type": "code",
   "execution_count": 1,
   "id": "b5b563ff",
   "metadata": {},
   "outputs": [
    {
     "data": {
      "text/plain": [
       "str"
      ]
     },
     "execution_count": 1,
     "metadata": {},
     "output_type": "execute_result"
    }
   ],
   "source": [
    "##Q1=\n",
    "#i)\n",
    "r=\"yes\"\n",
    "type(r)"
   ]
  },
  {
   "cell_type": "code",
   "execution_count": 21,
   "id": "1d23f9b4",
   "metadata": {},
   "outputs": [
    {
     "data": {
      "text/plain": [
       "list"
      ]
     },
     "execution_count": 21,
     "metadata": {},
     "output_type": "execute_result"
    }
   ],
   "source": [
    "#ii)\n",
    "l=[1,2,3,4]\n",
    "type(l)"
   ]
  },
  {
   "cell_type": "code",
   "execution_count": 22,
   "id": "b9fb50f3",
   "metadata": {},
   "outputs": [
    {
     "data": {
      "text/plain": [
       "float"
      ]
     },
     "execution_count": 22,
     "metadata": {},
     "output_type": "execute_result"
    }
   ],
   "source": [
    "#iii)\n",
    "o=99.23\n",
    "type(o)"
   ]
  },
  {
   "cell_type": "code",
   "execution_count": 23,
   "id": "44e009cd",
   "metadata": {},
   "outputs": [
    {
     "data": {
      "text/plain": [
       "tuple"
      ]
     },
     "execution_count": 23,
     "metadata": {},
     "output_type": "execute_result"
    }
   ],
   "source": [
    "#iv)\n",
    "t=(9,2,3)\n",
    "type(t)"
   ]
  },
  {
   "cell_type": "code",
   "execution_count": null,
   "id": "767e54b8",
   "metadata": {},
   "outputs": [],
   "source": []
  },
  {
   "cell_type": "markdown",
   "id": "44548fec",
   "metadata": {},
   "source": [
    "Q2= i) string\n",
    "    ii) string\n",
    "    iii) list\n",
    "    iv) integer"
   ]
  },
  {
   "cell_type": "code",
   "execution_count": 9,
   "id": "c60adb98",
   "metadata": {},
   "outputs": [
    {
     "data": {
      "text/plain": [
       "6.0"
      ]
     },
     "execution_count": 9,
     "metadata": {},
     "output_type": "execute_result"
    }
   ],
   "source": [
    "#Q3=i)\n",
    "# / operator gives division in float no.\n",
    "30/5\n"
   ]
  },
  {
   "cell_type": "code",
   "execution_count": 10,
   "id": "50bece37",
   "metadata": {},
   "outputs": [
    {
     "data": {
      "text/plain": [
       "3"
      ]
     },
     "execution_count": 10,
     "metadata": {},
     "output_type": "execute_result"
    }
   ],
   "source": [
    "#Q3=ii)\n",
    "# % operator divides and give the remainder of the following\n",
    "43%4"
   ]
  },
  {
   "cell_type": "code",
   "execution_count": 11,
   "id": "f33ee1b4",
   "metadata": {},
   "outputs": [
    {
     "data": {
      "text/plain": [
       "7"
      ]
     },
     "execution_count": 11,
     "metadata": {},
     "output_type": "execute_result"
    }
   ],
   "source": [
    "#Q3=iii)\n",
    "## // operator divides but only gives integer value\n",
    "15//2"
   ]
  },
  {
   "cell_type": "code",
   "execution_count": 12,
   "id": "7f22e6a7",
   "metadata": {},
   "outputs": [
    {
     "data": {
      "text/plain": [
       "9"
      ]
     },
     "execution_count": 12,
     "metadata": {},
     "output_type": "execute_result"
    }
   ],
   "source": [
    "#Q3=iv)\n",
    "# ** operator use to give power\n",
    "3**2"
   ]
  },
  {
   "cell_type": "code",
   "execution_count": 20,
   "id": "97b072cd",
   "metadata": {},
   "outputs": [
    {
     "name": "stdout",
     "output_type": "stream",
     "text": [
      "12 <class 'int'>\n",
      "ea <class 'str'>\n",
      "(1, 2) <class 'tuple'>\n",
      "[43, 54] <class 'list'>\n",
      "(1+2j) <class 'complex'>\n",
      "22.32 <class 'float'>\n",
      "33 <class 'int'>\n",
      "we <class 'str'>\n",
      "99.0 <class 'float'>\n",
      "(3-4j) <class 'complex'>\n"
     ]
    }
   ],
   "source": [
    "#Q4=\n",
    "l= [12,\"ea\",(1,2),[43,54],1+2j,22.32,33,\"we\",99.0,3-4j]\n",
    "for i in l:\n",
    "    print(i,type(i))"
   ]
  },
  {
   "cell_type": "code",
   "execution_count": 1,
   "id": "c6111b8b",
   "metadata": {
    "scrolled": true
   },
   "outputs": [
    {
     "name": "stdout",
     "output_type": "stream",
     "text": [
      "enter a number6\n",
      "enter a number7\n",
      "no\n"
     ]
    }
   ],
   "source": [
    "#Q5= \n",
    "a=int(input(\"enter a number\"))\n",
    "b= int(input(\"enter a number\"))\n",
    "if a%b==0:\n",
    "    print(\"yes\")\n",
    "else :\n",
    "    print('no')\n",
    "    "
   ]
  },
  {
   "cell_type": "code",
   "execution_count": 7,
   "id": "3734d594",
   "metadata": {
    "scrolled": true
   },
   "outputs": [
    {
     "name": "stdout",
     "output_type": "stream",
     "text": [
      "12 divisible by 3\n",
      "23 not divisible by 3\n",
      "24 divisible by 3\n",
      "90 divisible by 3\n",
      "78 divisible by 3\n",
      "4 not divisible by 3\n",
      "6 divisible by 3\n",
      "2 not divisible by 3\n",
      "18 divisible by 3\n",
      "56 not divisible by 3\n",
      "47 not divisible by 3\n",
      "88 not divisible by 3\n",
      "20 not divisible by 3\n",
      "36 divisible by 3\n",
      "45 divisible by 3\n",
      "78 divisible by 3\n",
      "56 not divisible by 3\n",
      "73 not divisible by 3\n",
      "94 not divisible by 3\n",
      "102 divisible by 3\n",
      "27 divisible by 3\n",
      "49 not divisible by 3\n",
      "9 divisible by 3\n",
      "20 not divisible by 3\n",
      "30 divisible by 3\n"
     ]
    }
   ],
   "source": [
    "#Q6=\n",
    "\n",
    "lst=[12,23,24,90,78,4,6,2,18,56,47,88,20,36,45,78,56,73,94,102,27,49,9,20,30]\n",
    "for i in lst:\n",
    "    if i%3==0:\n",
    "        print(i,\"divisible by 3\")\n",
    "    else:\n",
    "        print(i,\"not divisible by 3\")\n",
    "    \n",
    "    "
   ]
  },
  {
   "cell_type": "code",
   "execution_count": 10,
   "id": "107494a7",
   "metadata": {},
   "outputs": [
    {
     "name": "stdout",
     "output_type": "stream",
     "text": [
      "[12, 34, 43, 90, 45, 65]\n"
     ]
    },
    {
     "ename": "TypeError",
     "evalue": "'str' object does not support item assignment",
     "output_type": "error",
     "traceback": [
      "\u001b[1;31m---------------------------------------------------------------------------\u001b[0m",
      "\u001b[1;31mTypeError\u001b[0m                                 Traceback (most recent call last)",
      "Cell \u001b[1;32mIn[10], line 14\u001b[0m\n\u001b[0;32m     12\u001b[0m \u001b[38;5;66;03m#for example:- lets assign a string \u001b[39;00m\n\u001b[0;32m     13\u001b[0m p\u001b[38;5;241m=\u001b[39m\u001b[38;5;124m\"\u001b[39m\u001b[38;5;124mdoctor\u001b[39m\u001b[38;5;124m\"\u001b[39m\n\u001b[1;32m---> 14\u001b[0m p[\u001b[38;5;241m2\u001b[39m]\u001b[38;5;241m=\u001b[39m\u001b[38;5;124m\"\u001b[39m\u001b[38;5;124mi\u001b[39m\u001b[38;5;124m\"\u001b[39m\n\u001b[0;32m     15\u001b[0m \u001b[38;5;28mprint\u001b[39m(p)\n",
      "\u001b[1;31mTypeError\u001b[0m: 'str' object does not support item assignment"
     ]
    }
   ],
   "source": [
    "# Q7=\n",
    "'''Mutable Data Types:- Mutable data types are those which have a property to being updated after being\n",
    "initialized and object's ability to modify it's value.Some examples of Mutable Data are \"List\" and \"Dictionary\". '''\n",
    "#example:- take a list\n",
    "r=[12,34,45,90,45,65]\n",
    "r[2]=43\n",
    "print(r)\n",
    "#this example shows that the value of 3rd position in list gets changed.\n",
    "\n",
    "'''Immutable Data types:- Immutable Data types are those who doesn't have ability to modify or update it's \n",
    "value after being initialized. Some of the examples of Immutable data types are \"int\",\"float\",\"bool\",\"strings\",\"tuples\"etc. '''\n",
    "#for example:- lets assign a string \n",
    "p=\"doctor\"\n",
    "p[2]=\"i\"\n",
    "print(p)\n",
    "#the error shown below shows that it doesn't assign new value.\n"
   ]
  },
  {
   "cell_type": "code",
   "execution_count": null,
   "id": "59c648a8",
   "metadata": {},
   "outputs": [],
   "source": []
  },
  {
   "cell_type": "code",
   "execution_count": null,
   "id": "49ddca6b",
   "metadata": {},
   "outputs": [],
   "source": []
  },
  {
   "cell_type": "code",
   "execution_count": null,
   "id": "827ab5a3",
   "metadata": {},
   "outputs": [],
   "source": []
  },
  {
   "cell_type": "code",
   "execution_count": null,
   "id": "4f97a560",
   "metadata": {},
   "outputs": [],
   "source": []
  }
 ],
 "metadata": {
  "kernelspec": {
   "display_name": "Python 3 (ipykernel)",
   "language": "python",
   "name": "python3"
  },
  "language_info": {
   "codemirror_mode": {
    "name": "ipython",
    "version": 3
   },
   "file_extension": ".py",
   "mimetype": "text/x-python",
   "name": "python",
   "nbconvert_exporter": "python",
   "pygments_lexer": "ipython3",
   "version": "3.10.9"
  }
 },
 "nbformat": 4,
 "nbformat_minor": 5
}
